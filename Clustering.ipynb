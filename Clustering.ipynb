{
  "nbformat": 4,
  "nbformat_minor": 0,
  "metadata": {
    "colab": {
      "name": "Clustering.ipynb",
      "provenance": [],
      "collapsed_sections": []
    },
    "kernelspec": {
      "name": "python3",
      "display_name": "Python 3"
    }
  },
  "cells": [
    {
      "cell_type": "code",
      "metadata": {
        "id": "w_rzK8Ud5EPY",
        "colab_type": "code",
        "colab": {}
      },
      "source": [
        "# Using DBSCAN\n",
        "# Importing the neccessary libraries\n",
        "import numpy as np\n",
        "import pandas as pd\n",
        "from sklearn.cluster import DBSCAN\n",
        "import matplotlib.pyplot as plt"
      ],
      "execution_count": 56,
      "outputs": []
    },
    {
      "cell_type": "code",
      "metadata": {
        "id": "WKtYpuMK5Qa6",
        "colab_type": "code",
        "colab": {}
      },
      "source": [
        "#Read in the data and trim V1 and V2 for a 2 columns dataframe\n",
        "df=pd.read_csv('ClusterPlot.csv')\n",
        "df= df[['V1','V2']]\n",
        "#df.head()\n",
        "#Code to see if the data is read correctly"
      ],
      "execution_count": 105,
      "outputs": []
    },
    {
      "cell_type": "code",
      "metadata": {
        "id": "yHN7sEoB9lLR",
        "colab_type": "code",
        "colab": {
          "base_uri": "https://localhost:8080/",
          "height": 284
        },
        "outputId": "420f172b-59c5-4bbf-f7fb-47953a0fd0ca"
      },
      "source": [
        "#Use descibe() to see standard deviation and count for a better estimate for DBSCAN parameters\n",
        "df.describe()"
      ],
      "execution_count": 7,
      "outputs": [
        {
          "output_type": "execute_result",
          "data": {
            "text/html": [
              "<div>\n",
              "<style scoped>\n",
              "    .dataframe tbody tr th:only-of-type {\n",
              "        vertical-align: middle;\n",
              "    }\n",
              "\n",
              "    .dataframe tbody tr th {\n",
              "        vertical-align: top;\n",
              "    }\n",
              "\n",
              "    .dataframe thead th {\n",
              "        text-align: right;\n",
              "    }\n",
              "</style>\n",
              "<table border=\"1\" class=\"dataframe\">\n",
              "  <thead>\n",
              "    <tr style=\"text-align: right;\">\n",
              "      <th></th>\n",
              "      <th>Unnamed: 0</th>\n",
              "      <th>V1</th>\n",
              "      <th>V2</th>\n",
              "    </tr>\n",
              "  </thead>\n",
              "  <tbody>\n",
              "    <tr>\n",
              "      <th>count</th>\n",
              "      <td>150.000000</td>\n",
              "      <td>150.000000</td>\n",
              "      <td>150.000000</td>\n",
              "    </tr>\n",
              "    <tr>\n",
              "      <th>mean</th>\n",
              "      <td>74.500000</td>\n",
              "      <td>4.448667</td>\n",
              "      <td>2.478667</td>\n",
              "    </tr>\n",
              "    <tr>\n",
              "      <th>std</th>\n",
              "      <td>43.445368</td>\n",
              "      <td>0.445859</td>\n",
              "      <td>1.253831</td>\n",
              "    </tr>\n",
              "    <tr>\n",
              "      <th>min</th>\n",
              "      <td>0.000000</td>\n",
              "      <td>3.400000</td>\n",
              "      <td>0.600000</td>\n",
              "    </tr>\n",
              "    <tr>\n",
              "      <th>25%</th>\n",
              "      <td>37.250000</td>\n",
              "      <td>4.150000</td>\n",
              "      <td>0.900000</td>\n",
              "    </tr>\n",
              "    <tr>\n",
              "      <th>50%</th>\n",
              "      <td>74.500000</td>\n",
              "      <td>4.425000</td>\n",
              "      <td>2.825000</td>\n",
              "    </tr>\n",
              "    <tr>\n",
              "      <th>75%</th>\n",
              "      <td>111.750000</td>\n",
              "      <td>4.787500</td>\n",
              "      <td>3.500000</td>\n",
              "    </tr>\n",
              "    <tr>\n",
              "      <th>max</th>\n",
              "      <td>149.000000</td>\n",
              "      <td>5.850000</td>\n",
              "      <td>4.600000</td>\n",
              "    </tr>\n",
              "  </tbody>\n",
              "</table>\n",
              "</div>"
            ],
            "text/plain": [
              "       Unnamed: 0          V1          V2\n",
              "count  150.000000  150.000000  150.000000\n",
              "mean    74.500000    4.448667    2.478667\n",
              "std     43.445368    0.445859    1.253831\n",
              "min      0.000000    3.400000    0.600000\n",
              "25%     37.250000    4.150000    0.900000\n",
              "50%     74.500000    4.425000    2.825000\n",
              "75%    111.750000    4.787500    3.500000\n",
              "max    149.000000    5.850000    4.600000"
            ]
          },
          "metadata": {
            "tags": []
          },
          "execution_count": 7
        }
      ]
    },
    {
      "cell_type": "code",
      "metadata": {
        "id": "em2iT6uv6py9",
        "colab_type": "code",
        "colab": {}
      },
      "source": [
        "#Create the DBSCAN model and fit the data to predict clusters\n",
        "model = DBSCAN(eps=.5,min_samples=10).fit(df)"
      ],
      "execution_count": 82,
      "outputs": []
    },
    {
      "cell_type": "code",
      "metadata": {
        "id": "O8Kw2ZZ1E1rh",
        "colab_type": "code",
        "colab": {
          "base_uri": "https://localhost:8080/",
          "height": 34
        },
        "outputId": "4d5954b0-ac2c-4622-bee3-e424d93a9cb9"
      },
      "source": [
        "#Collect the number of clusters by identifying unique labels\n",
        "#Found the number of clusters is 2\n",
        "labels = model.labels_\n",
        "n_clusters = len(set(labels))\n",
        "df['cluster labels']=labels #Add the cluster labels column into dataframe for plotting\n",
        "print('Estimated number of clusters: %d' %n_clusters)"
      ],
      "execution_count": 104,
      "outputs": [
        {
          "output_type": "stream",
          "text": [
            "Estimated number of clusters: 2\n"
          ],
          "name": "stdout"
        }
      ]
    },
    {
      "cell_type": "code",
      "metadata": {
        "id": "EQnXOOC8MNIL",
        "colab_type": "code",
        "colab": {
          "base_uri": "https://localhost:8080/",
          "height": 265
        },
        "outputId": "a080792c-b26c-4426-8630-a89aaef68661"
      },
      "source": [
        "#Create graph to see the clustering is successful\n",
        "#DBSCAN was able to find resonable clusters\n",
        "plt.scatter(df[df['cluster labels'] == 0]['V1'], df[df['cluster labels'] == 0]['V2'], label = 'Cluster 1')\n",
        "plt.scatter(df[df['cluster labels'] == 1]['V1'], df[df['cluster labels'] == 1]['V2'], label = 'Cluster 2')\n",
        "plt.legend()\n",
        "plt.show()"
      ],
      "execution_count": 99,
      "outputs": [
        {
          "output_type": "display_data",
          "data": {
            "image/png": "[encoded data removed]",
            "text/plain": [
              "<Figure size 432x288 with 1 Axes>"
            ]
          },
          "metadata": {
            "tags": [],
            "needs_background": "light"
          }
        }
      ]
    }
  ]
}